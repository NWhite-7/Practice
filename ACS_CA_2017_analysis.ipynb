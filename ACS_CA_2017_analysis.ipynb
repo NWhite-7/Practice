{
 "cells": [
  {
   "cell_type": "markdown",
   "metadata": {},
   "source": [
    "# American Community Survey - California - 2017 Analysis\n",
    "\n",
    "In this notebook, I will practice conducting statistical tests and visualizing data within Python. \n",
    "\n",
    "The data I'm using comes from the 2017 American Community Survey, from California only. "
   ]
  },
  {
   "cell_type": "code",
   "execution_count": 8,
   "metadata": {},
   "outputs": [],
   "source": [
    "# Libraries\n",
    "import pandas as pd"
   ]
  },
  {
   "cell_type": "markdown",
   "metadata": {},
   "source": [
    "## Data Preparation\n",
    "\n",
    "I will import and clean up the data."
   ]
  },
  {
   "cell_type": "code",
   "execution_count": 4,
   "metadata": {},
   "outputs": [],
   "source": [
    "# Import data file\n",
    "raw_data = pd.read_csv('psam_p06.csv')"
   ]
  },
  {
   "cell_type": "code",
   "execution_count": 5,
   "metadata": {},
   "outputs": [
    {
     "name": "stdout",
     "output_type": "stream",
     "text": [
      "<class 'pandas.core.frame.DataFrame'>\n",
      "RangeIndex: 377575 entries, 0 to 377574\n",
      "Columns: 286 entries, RT to PWGTP80\n",
      "dtypes: float64(85), int64(198), object(3)\n",
      "memory usage: 823.9+ MB\n"
     ]
    }
   ],
   "source": [
    "raw_data.info()"
   ]
  },
  {
   "cell_type": "code",
   "execution_count": 7,
   "metadata": {},
   "outputs": [
    {
     "name": "stdout",
     "output_type": "stream",
     "text": [
      "  RT       SERIALNO  DIVISION  SPORDER  PUMA  REGION  ST   ADJINC  PWGTP  \\\n",
      "0  P  2017000000014         9        1  6703       4   6  1011189     59   \n",
      "1  P  2017000000014         9        2  6703       4   6  1011189     57   \n",
      "2  P  2017000000014         9        3  6703       4   6  1011189     54   \n",
      "\n",
      "   AGEP  ...  PWGTP71  PWGTP72  PWGTP73  PWGTP74  PWGTP75  PWGTP76  PWGTP77  \\\n",
      "0    45  ...       64       63       55       17      100       65       62   \n",
      "1    39  ...       51       54       59       19       95       53       56   \n",
      "2    15  ...       50       62       52       14       99       53       60   \n",
      "\n",
      "   PWGTP78  PWGTP79  PWGTP80  \n",
      "0       68       17      101  \n",
      "1       62       18       97  \n",
      "2       60       16       90  \n",
      "\n",
      "[3 rows x 286 columns]\n"
     ]
    }
   ],
   "source": [
    "print(raw_data.head(3))"
   ]
  },
  {
   "cell_type": "markdown",
   "metadata": {},
   "source": [
    "This is a very large file. I will create a new DataFrame that only contains the columns I want to examine. "
   ]
  }
 ],
 "metadata": {
  "kernelspec": {
   "display_name": "Python 3",
   "language": "python",
   "name": "python3"
  },
  "language_info": {
   "codemirror_mode": {
    "name": "ipython",
    "version": 3
   },
   "file_extension": ".py",
   "mimetype": "text/x-python",
   "name": "python",
   "nbconvert_exporter": "python",
   "pygments_lexer": "ipython3",
   "version": "3.7.3"
  }
 },
 "nbformat": 4,
 "nbformat_minor": 2
}
