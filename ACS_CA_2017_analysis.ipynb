{
 "cells": [
  {
   "cell_type": "markdown",
   "metadata": {},
   "source": [
    "# American Community Survey - California - 2017 Analysis\n",
    "\n",
    "In this notebook, I will practice conducting statistical tests and visualizing data within Python. \n",
    "\n",
    "The data I'm using comes from the 2017 American Community Survey. I am looking at data from California only. The table I am using is \"Selected Characteristics of People at Specified Levels of Poverty in the Past 12 Months.\" This will allow us to see how poverty levels differ in different counties of California and among different populations."
   ]
  },
  {
   "cell_type": "code",
   "execution_count": 8,
   "metadata": {},
   "outputs": [],
   "source": [
    "# Libraries\n",
    "import pandas as pd"
   ]
  },
  {
   "cell_type": "markdown",
   "metadata": {},
   "source": [
    "## Data Preparation\n",
    "\n",
    "Let's import and clean up the data."
   ]
  },
  {
   "cell_type": "code",
   "execution_count": 10,
   "metadata": {},
   "outputs": [],
   "source": [
    "# Import data file\n",
    "data = pd.read_csv('ACS_17_1YR_S1703_with_ann.csv')\n",
    "metadata = pd.read_csv('ACS_17_1YR_S1703_metadata.csv')"
   ]
  },
  {
   "cell_type": "code",
   "execution_count": 11,
   "metadata": {},
   "outputs": [
    {
     "name": "stdout",
     "output_type": "stream",
     "text": [
      "<class 'pandas.core.frame.DataFrame'>\n",
      "RangeIndex: 16 entries, 0 to 15\n",
      "Columns: 283 entries, GEO.id to HC04_MOE_VC51\n",
      "dtypes: object(283)\n",
      "memory usage: 35.5+ KB\n"
     ]
    }
   ],
   "source": [
    "data.info()"
   ]
  },
  {
   "cell_type": "code",
   "execution_count": 13,
   "metadata": {},
   "outputs": [
    {
     "name": "stdout",
     "output_type": "stream",
     "text": [
      "                GEO.id                                                 Id\n",
      "0              GEO.id2                                                Id2\n",
      "1    GEO.display-label                                          Geography\n",
      "2        HC01_EST_VC01  Total; Estimate; Population for whom poverty s...\n",
      "3        HC01_MOE_VC01  Total; Margin of Error; Population for whom po...\n",
      "4        HC02_EST_VC01  Less than 50 percent of the poverty level; Est...\n",
      "5        HC02_MOE_VC01  Less than 50 percent of the poverty level; Mar...\n",
      "6        HC03_EST_VC01  Less than 100 percent of the poverty level; Es...\n",
      "7        HC03_MOE_VC01  Less than 100 percent of the poverty level; Ma...\n",
      "8        HC04_EST_VC01  Less than 125 percent of the poverty level; Es...\n",
      "9        HC04_MOE_VC01  Less than 125 percent of the poverty level; Ma...\n",
      "10       HC01_EST_VC03                        Total; Estimate; SEX - Male\n",
      "11       HC01_MOE_VC03                 Total; Margin of Error; SEX - Male\n",
      "12       HC02_EST_VC03  Less than 50 percent of the poverty level; Est...\n",
      "13       HC02_MOE_VC03  Less than 50 percent of the poverty level; Mar...\n",
      "14       HC03_EST_VC03  Less than 100 percent of the poverty level; Es...\n",
      "15       HC03_MOE_VC03  Less than 100 percent of the poverty level; Ma...\n",
      "16       HC04_EST_VC03  Less than 125 percent of the poverty level; Es...\n",
      "17       HC04_MOE_VC03  Less than 125 percent of the poverty level; Ma...\n",
      "18       HC01_EST_VC04                      Total; Estimate; SEX - Female\n",
      "19       HC01_MOE_VC04               Total; Margin of Error; SEX - Female\n",
      "20       HC02_EST_VC04  Less than 50 percent of the poverty level; Est...\n",
      "21       HC02_MOE_VC04  Less than 50 percent of the poverty level; Mar...\n",
      "22       HC03_EST_VC04  Less than 100 percent of the poverty level; Es...\n",
      "23       HC03_MOE_VC04  Less than 100 percent of the poverty level; Ma...\n",
      "24       HC04_EST_VC04  Less than 125 percent of the poverty level; Es...\n",
      "25       HC04_MOE_VC04  Less than 125 percent of the poverty level; Ma...\n",
      "26       HC01_EST_VC07              Total; Estimate; AGE - Under 18 years\n",
      "27       HC01_MOE_VC07       Total; Margin of Error; AGE - Under 18 years\n",
      "28       HC02_EST_VC07  Less than 50 percent of the poverty level; Est...\n",
      "29       HC02_MOE_VC07  Less than 50 percent of the poverty level; Mar...\n",
      "..                 ...                                                ...\n",
      "252      HC02_EST_VC48  Less than 50 percent of the poverty level; Est...\n",
      "253      HC02_MOE_VC48  Less than 50 percent of the poverty level; Mar...\n",
      "254      HC03_EST_VC48  Less than 100 percent of the poverty level; Es...\n",
      "255      HC03_MOE_VC48  Less than 100 percent of the poverty level; Ma...\n",
      "256      HC04_EST_VC48  Less than 125 percent of the poverty level; Es...\n",
      "257      HC04_MOE_VC48  Less than 125 percent of the poverty level; Ma...\n",
      "258      HC01_EST_VC49  Total; Estimate; WORK STATUS - Population 16 t...\n",
      "259      HC01_MOE_VC49  Total; Margin of Error; WORK STATUS - Populati...\n",
      "260      HC02_EST_VC49  Less than 50 percent of the poverty level; Est...\n",
      "261      HC02_MOE_VC49  Less than 50 percent of the poverty level; Mar...\n",
      "262      HC03_EST_VC49  Less than 100 percent of the poverty level; Es...\n",
      "263      HC03_MOE_VC49  Less than 100 percent of the poverty level; Ma...\n",
      "264      HC04_EST_VC49  Less than 125 percent of the poverty level; Es...\n",
      "265      HC04_MOE_VC49  Less than 125 percent of the poverty level; Ma...\n",
      "266      HC01_EST_VC50  Total; Estimate; WORK STATUS - Population 16 t...\n",
      "267      HC01_MOE_VC50  Total; Margin of Error; WORK STATUS - Populati...\n",
      "268      HC02_EST_VC50  Less than 50 percent of the poverty level; Est...\n",
      "269      HC02_MOE_VC50  Less than 50 percent of the poverty level; Mar...\n",
      "270      HC03_EST_VC50  Less than 100 percent of the poverty level; Es...\n",
      "271      HC03_MOE_VC50  Less than 100 percent of the poverty level; Ma...\n",
      "272      HC04_EST_VC50  Less than 125 percent of the poverty level; Es...\n",
      "273      HC04_MOE_VC50  Less than 125 percent of the poverty level; Ma...\n",
      "274      HC01_EST_VC51  Total; Estimate; WORK STATUS - Population 16 t...\n",
      "275      HC01_MOE_VC51  Total; Margin of Error; WORK STATUS - Populati...\n",
      "276      HC02_EST_VC51  Less than 50 percent of the poverty level; Est...\n",
      "277      HC02_MOE_VC51  Less than 50 percent of the poverty level; Mar...\n",
      "278      HC03_EST_VC51  Less than 100 percent of the poverty level; Es...\n",
      "279      HC03_MOE_VC51  Less than 100 percent of the poverty level; Ma...\n",
      "280      HC04_EST_VC51  Less than 125 percent of the poverty level; Es...\n",
      "281      HC04_MOE_VC51  Less than 125 percent of the poverty level; Ma...\n",
      "\n",
      "[282 rows x 2 columns]\n"
     ]
    }
   ],
   "source": [
    "print(metadata)"
   ]
  },
  {
   "cell_type": "markdown",
   "metadata": {},
   "source": [
    "This is a very large file. Let's separate it into smaller dataframes to make our analysis easier. "
   ]
  }
 ],
 "metadata": {
  "kernelspec": {
   "display_name": "Python 3",
   "language": "python",
   "name": "python3"
  },
  "language_info": {
   "codemirror_mode": {
    "name": "ipython",
    "version": 3
   },
   "file_extension": ".py",
   "mimetype": "text/x-python",
   "name": "python",
   "nbconvert_exporter": "python",
   "pygments_lexer": "ipython3",
   "version": "3.7.3"
  }
 },
 "nbformat": 4,
 "nbformat_minor": 2
}
