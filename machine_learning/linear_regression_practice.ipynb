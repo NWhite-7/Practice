{
 "cells": [
  {
   "cell_type": "markdown",
   "metadata": {},
   "source": [
    "# Linear Regression Practice\n",
    "\n",
    "In this notebook, I will practice running linear regression in Python. I'm very familiar with running linear regressions in SPSS and STATA, so it will be good to practice setting up models in this format. \n",
    "\n",
    "I am going to manually calculate linear regression and use built-in functions from scikit-learn to get extra practice.\n",
    "\n",
    "The data I am using is on Olympic athletes. I found this dataset on Kaggle. \n",
    "\n",
    "Let's get started."
   ]
  }
 ],
 "metadata": {
  "kernelspec": {
   "display_name": "Python 3",
   "language": "python",
   "name": "python3"
  },
  "language_info": {
   "codemirror_mode": {
    "name": "ipython",
    "version": 3
   },
   "file_extension": ".py",
   "mimetype": "text/x-python",
   "name": "python",
   "nbconvert_exporter": "python",
   "pygments_lexer": "ipython3",
   "version": "3.7.3"
  }
 },
 "nbformat": 4,
 "nbformat_minor": 2
}
